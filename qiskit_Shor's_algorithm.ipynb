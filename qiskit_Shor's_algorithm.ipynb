{
  "cells": [
    {
      "cell_type": "markdown",
      "metadata": {
        "colab_type": "text",
        "id": "view-in-github"
      },
      "source": [
        "<a href=\"https://colab.research.google.com/github/arminasemani/Qiskit/blob/main/qiskit_Shor's_algorithm.ipynb\" target=\"_parent\"><img src=\"https://colab.research.google.com/assets/colab-badge.svg\" alt=\"Open In Colab\"/></a>"
      ]
    },
    {
      "cell_type": "markdown",
      "metadata": {},
      "source": [
        "### ***Supervisor***\n",
        "Dr. Mohsen Akbari\n",
        "\n",
        "### ***Contributors***\n",
        "Armin Asemani"
      ]
    },
    {
      "cell_type": "markdown",
      "metadata": {
        "id": "91_zUGEK0Yiw"
      },
      "source": [
        "# ***Shor's Algorithm for Integer Factorization***\n",
        "\n",
        "# Integer Factorization\n",
        "Integer factorization means breaking down a larger number into smaller numbers that, when multiplied together, give you the original number. For example, you can break down $100$ into $10 \\times 10$. If you only use prime numbers (numbers that can't be divided by anything other than 1 and themselves), it's called prime factorization. For instance, the prime factorization of $100$ is $2 \\times 2 \\times 5 \\times 5$.\n",
        "\n",
        "When the integers are very large, no efficient classical integer factorization algorithm is known. The hardest factorization problems are semiprime numbers, which are the product of two prime numbers. In 2009, a team of researchers factored a semiprime number with 232 decimal digits (768 bits). They spent computational time equivalent to over two thousand years on a single core 2.2 GHz AMD Opteron processor with 2 GB RAM:\n",
        "\n",
        "\n",
        " ```   \n",
        "    RSA-768 = 12301866845301177551304949583849627207728535695953347921973224521517264005\n",
        "              07263657518745202199786469389956474942774063845925192557326303453731548268\n",
        "              50791702612214291346167042921431160222124047927473779408066535141959745985\n",
        "              6902143413\n",
        "            = 33478071698956898786044169848212690817704794983713768568912431388982883793\n",
        "              878002287614711652531743087737814467999489\n",
        "            × 36746043666799590428244633799627952632279158164343087642676032283815739666\n",
        "              511279233373417143396810270092798736308917\n",
        "\n",
        "```\n",
        "\n",
        "\n",
        "\n",
        "\n",
        "The assumed difficulty of factoring semiprime numbers supports many encryption algorithms like RSA, which is used for online credit card transactions and other applications.\n",
        "\n",
        "# Shor's Algorithm\n",
        "Shor's algorithm, named after mathematician Peter Shor, is a quantum algorithm for integer factorization that runs in polynomial time. Formulated in 1994, it dramatically changed our understanding of which computational problems are manageable. This motivated the study of new quantum algorithms and the development of quantum computers. It also sped up research into new cryptosystems not based on integer factorization.\n",
        "\n",
        "Shor's algorithm has been experimentally realized by multiple teams for specific composite integers. The integer $15$ was first factored into $3 \\times 5$ in 2001 using seven NMR qubits. Since then, it has been implemented using four photon qubits in 2007 by two teams, three solid state qubits in 2012, and five trapped ion qubits in 2016. The integer $21$ was factored into $3 \\times 7$ in 2012 using a photon qubit and qutrit (a three-level system). These experiments rely on significant optimizations of Shor's algorithm based on prior knowledge of the expected results. Generally, $2 + \\frac{3}{2} \\log_2 N$ qubits are needed to factor the composite integer $N$, meaning at least $1154$ qubits would be needed to factor $RSA-768$ above.\n",
        "\n",
        "# Step by Step\n",
        "\n",
        "Shor's algorithm has three parts. First, it converts the factoring problem into a period-finding problem using number theory$^1$, which can be solved on a classical computer. Second, it uses the quantum Fourier transform to find the period$^2$, providing the algorithm's quantum speedup. Third, it uses the period to calculate the factors$^3$.\n",
        "\n",
        "\n",
        "\n",
        "\n",
        "\n",
        "**1.   From Factorization to Period Finding**\n",
        "\n",
        "The number theory behind Shor's algorithm involves periodic modulo sequences. Let's look at an example. Consider the sequence of the powers of two:\n",
        "$$\n",
        "1, 2, 4, 8, 16, 32, 64, 128, 256, 512, 1024, ...\n",
        "$$\n",
        "Now, let's look at the same sequence 'modulo 15', which means we take the remainder when each power of two is divided by 15:\n",
        "$$\n",
        "1, 2, 4, 8, 1, 2, 4, 8, 1, 2, 4, ...\n",
        "$$\n",
        "This sequence repeats every four numbers, which makes it a periodic modulo sequence with a period of four.\n",
        "\n",
        "Reduction of factorization of $N$ to the problem of finding the period of an integer $x$ less than $N$ and greater than $1$ depends on the following result from number theory:\n",
        "\n",
        "\n",
        "> The Function $𝓕(a) = x^a$ mod $N$ is periodic function, where $x$ is an integer coprime to $N$ and $a \\ge 0$.\n",
        "\n",
        "Note that two numbers are coprime if the only positive integer that divides both of them is 1. This means their greatest common divisor is 1. For example, $8$ and $15$ are coprime because they don't share any common factors (other than $1$). However, $9$ and $15$ are not coprime because they are both divisible by $3$ (and $1$).\n",
        "\n",
        "> Since $𝓕(a)$ is a periodic function, it has some period $r$. Knowing that $x^0 \\  mod \\  N = 1$, this means that $x^r \\ mod \\ N = 1$ since the function is periodic, and thus $r$ is just the first nonzero power where $x^r = 1 \\ (mod N)$.\n",
        "\n",
        "Given this information and through the following algebraic manipulation:\n",
        "\n",
        "$$\n",
        "x^r \\equiv 1 \\ mod \\ N \\\\\n",
        "x^r = (x^\\frac{r}{2})^2 ≡ 1 \\ mod \\ N \\\\\n",
        "(x^\\frac{r}{2})^2 - 1 ≡ 0 \\ mod \\ N\n",
        "$$\n",
        "\n",
        "And if we consider r as an even number thus:\n",
        "\n",
        "$$\n",
        "(x^\\frac{r}{2} - 1)(x^\\frac{r}{2} +1) ≡ 0 \\ mod \\ N\n",
        "$$\n",
        "\n",
        "From this, the product $(x^\\frac{r}{2} - 1)(x^\\frac{r}{2} +1)$ is an integer multiple of $N$, the number to be factored. Therefore, as long as $(x^\\frac{r}{2} +1)$ or $(x^\\frac{r}{2} - 1)$ is not a multiple of $N$, at least one of them must share a nontrivial factor with $N$.\n",
        "\n",
        "So computing $gcd (x^\\frac{r}{2} - 1 , N)$ and $gcd (x^\\frac{r}{2} + 1 , N)$ will give us a factor of $N$. Here, $gcd$ is the greatest common divisor function, which can be calculated using the polynomial time Euclidean algorithm.\n",
        "\n",
        "\n",
        "**Classical Steps to Shor's Algorithm**\n",
        "\n",
        "Let's assume there is a machine that finds the period for coprime integers $x$ and $N$. It outputs the period of $x \\ \\text{mod} \\ N$ using a brute force search. We can use this machine to find all prime factors of $N$ by following these steps based on the number theory described above.\n"
      ]
    },
    {
      "cell_type": "code",
      "execution_count": null,
      "metadata": {
        "id": "geTHQhafL1nZ"
      },
      "outputs": [],
      "source": [
        "#Brute force period finding algorithm\n",
        "def findPeriodClassical (x, N):\n",
        "  n = 1\n",
        "  t = x\n",
        "  while t != 1:\n",
        "    t *= x\n",
        "    t %= N\n",
        "    n += 1\n",
        "  return n"
      ]
    },
    {
      "cell_type": "markdown",
      "metadata": {
        "id": "XoCYEi4PMrxl"
      },
      "source": [
        "For simplicity, assume that $N$ has only two distinct prime factors: $N = pq$."
      ]
    },
    {
      "cell_type": "markdown",
      "metadata": {
        "id": "6LLW6FXqjsae"
      },
      "source": [
        "\n",
        "\n",
        "---\n",
        "\n"
      ]
    },
    {
      "cell_type": "markdown",
      "metadata": {
        "id": "nnODpqvmMym-"
      },
      "source": [
        "\n",
        "\n",
        "1.   Pick a random integer $x$ between $1$ and $N$ and compute the greatest common divisor $gcd(x, N)$ using Euclid's algorithm.\n",
        "2.   If $x$ and $N$ have some common prime factors $gcd(x, N)$,  will equal $p$ or $q$. Otherwise $gcd(x, N) = 1$, meaning $x$ and $N$ are coprime.\n",
        "3.   Let $r$ be the period of $x \\ mod \\ N$ computed by the period finding machine. Repeat the above steps with different random choices of $x$ until $r$ is even.\n",
        "4.   Now $p$ and $q$ can be found by computing $gcd (x^\\frac{r}{2} ± 1 , N)$\n",
        " as long as $x^{r/2} \\neq ±1$.\n"
      ]
    },
    {
      "cell_type": "markdown",
      "metadata": {
        "id": "DOmtiGeMjt00"
      },
      "source": [
        "\n",
        "\n",
        "---\n",
        "\n"
      ]
    },
    {
      "cell_type": "markdown",
      "metadata": {
        "id": "0abhP8iBPjvU"
      },
      "source": [
        "As an example, consider $N=15$. Let's look at all values of $ 2 < x < 15 $ where $x$ is coprime with $15$ :"
      ]
    },
    {
      "cell_type": "markdown",
      "metadata": {
        "id": "cNsyM8fUSVr0"
      },
      "source": [
        "<style type=\"text/css\">\n",
        ".tg  {border-collapse:collapse;border-color:#ccc;border-spacing:0;margin:0px auto;}\n",
        ".tg td{background-color:#fff;border-color:#ccc;border-style:solid;border-width:0px;color:#333;\n",
        "  font-family:Arial, sans-serif;font-size:14px;overflow:hidden;padding:10px 5px;word-break:normal;}\n",
        ".tg th{background-color:#f0f0f0;border-color:#ccc;border-style:solid;border-width:0px;color:#333;\n",
        "  font-family:Arial, sans-serif;font-size:14px;font-weight:normal;overflow:hidden;padding:10px 5px;word-break:normal;}\n",
        ".tg .tg-hv44{border-color:inherit;font-family:\"Lucida Console\", Monaco, monospace !important;text-align:center;vertical-align:top}\n",
        ".tg .tg-jqvv{background-color:#f9f9f9;border-color:inherit;font-family:\"Lucida Console\", Monaco, monospace !important;\n",
        "  text-align:center;vertical-align:top}\n",
        "</style>\n",
        "<table class=\"tg\" style=\"undefined;table-layout: fixed; width: 887px\"><colgroup>\n",
        "<col style=\"width: 27px\">\n",
        "<col style=\"width: 250px\">\n",
        "<col style=\"width: 128px\">\n",
        "<col style=\"width: 235px\">\n",
        "<col style=\"width: 247px\">\n",
        "</colgroup>\n",
        "<thead>\n",
        "  <tr>\n",
        "    <th class=\"tg-hv44\">x</th>\n",
        "    <th class=\"tg-hv44\">$x^a \\ mod \\ 15$</th>\n",
        "    <th class=\"tg-hv44\">Period r</th>\n",
        "    <th class=\"tg-hv44\">gcd(x^{r/2} -1 , 15)</th>\n",
        "    <th class=\"tg-hv44\"><span style=\"font-weight:400;font-style:normal;text-decoration:none\">gcd(x^{r/2} +1 , 15)</span></th>\n",
        "  </tr></thead>\n",
        "<tbody>\n",
        "  <tr>\n",
        "    <td class=\"tg-hv44\">2</td>\n",
        "    <td class=\"tg-jqvv\">1,2,4,8,1,2,4,8,1,2,...</td>\n",
        "    <td class=\"tg-hv44\">4</td>\n",
        "    <td class=\"tg-jqvv\">3</td>\n",
        "    <td class=\"tg-hv44\">5</td>\n",
        "  </tr>\n",
        "  <tr>\n",
        "    <td class=\"tg-hv44\">4</td>\n",
        "    <td class=\"tg-jqvv\">1,4,1,4,1,4,1,4,1,4,1,...</td>\n",
        "    <td class=\"tg-hv44\">2</td>\n",
        "    <td class=\"tg-jqvv\">3</td>\n",
        "    <td class=\"tg-hv44\">5</td>\n",
        "  </tr>\n",
        "  <tr>\n",
        "    <td class=\"tg-hv44\">7</td>\n",
        "    <td class=\"tg-jqvv\">1,7,4,13,1,7,4,13,1,7,...</td>\n",
        "    <td class=\"tg-hv44\">4</td>\n",
        "    <td class=\"tg-jqvv\">3</td>\n",
        "    <td class=\"tg-hv44\">5</td>\n",
        "  </tr>\n",
        "  <tr>\n",
        "    <td class=\"tg-hv44\">8</td>\n",
        "    <td class=\"tg-jqvv\">1,8,4,2,1,8,4,2,1,8,4,...</td>\n",
        "    <td class=\"tg-hv44\">4</td>\n",
        "    <td class=\"tg-jqvv\">3</td>\n",
        "    <td class=\"tg-hv44\">5</td>\n",
        "  </tr>\n",
        "  <tr>\n",
        "    <td class=\"tg-hv44\">11</td>\n",
        "    <td class=\"tg-jqvv\">1,11,1,11,1,11,1,11,1,11,1,...</td>\n",
        "    <td class=\"tg-hv44\">2</td>\n",
        "    <td class=\"tg-jqvv\">5</td>\n",
        "    <td class=\"tg-hv44\">3</td>\n",
        "  </tr>\n",
        "  <tr>\n",
        "    <td class=\"tg-hv44\">13</td>\n",
        "    <td class=\"tg-jqvv\">1,13,4,7,1,13,4,7,1,13,4,...</td>\n",
        "    <td class=\"tg-hv44\">4</td>\n",
        "    <td class=\"tg-jqvv\">3</td>\n",
        "    <td class=\"tg-hv44\">5</td>\n",
        "  </tr>\n",
        "  <tr>\n",
        "    <td class=\"tg-hv44\">14</td>\n",
        "    <td class=\"tg-jqvv\">1,14,1,14,1,14,1,14,1,14,1,...</td>\n",
        "    <td class=\"tg-hv44\">2</td>\n",
        "    <td class=\"tg-jqvv\">1</td>\n",
        "    <td class=\"tg-hv44\">15</td>\n",
        "  </tr>\n",
        "</tbody></table>"
      ]
    },
    {
      "cell_type": "markdown",
      "metadata": {
        "id": "2gXlmrrZYgrw"
      },
      "source": [
        "As you can see, any value of $x$ except $14$ will return the factors of $15$, which are $3$ and $5$.\n",
        "\n",
        " $14$ is a special case where $(x^\\frac{r}{2} - 1)$ or $(x^\\frac{r}{2} + 1)$ is a multiple of $N$. In this situation, we need to try another value of $x$.\n",
        "\n",
        "Generally, this special case happens rarely, so on average, only two calls to the period-finding machine are needed to factor $N$.\n",
        "\n",
        "For a more interesting example, first let's find larger number N, that is semiprime that is relatively small. Using the Sieve of Eratosthenes Python implementation, let's generate a list of all the prime numbers less than a thousand, randomly select two, and muliply them."
      ]
    },
    {
      "cell_type": "code",
      "execution_count": null,
      "metadata": {
        "colab": {
          "base_uri": "https://localhost:8080/"
        },
        "id": "ll0YB_ppZjGL",
        "outputId": "cd8abf8f-0e82-44e3-fc10-71833ae4ecd5"
      },
      "outputs": [
        {
          "name": "stdout",
          "output_type": "stream",
          "text": [
            "Selected primes: 911 and 839\n",
            "Semiprime (N): 764329\n"
          ]
        }
      ],
      "source": [
        "import random\n",
        "\n",
        "# Sieve of Eratosthenes to generate a list of all primes less than 1000\n",
        "def sieve_of_eratosthenes(limit):\n",
        "    primes = []\n",
        "    sieve = [True] * (limit + 1)\n",
        "    for num in range(2, limit + 1):\n",
        "        if sieve[num]:\n",
        "            primes.append(num)\n",
        "            for multiple in range(num*num, limit + 1, num):\n",
        "                sieve[multiple] = False\n",
        "    return primes\n",
        "\n",
        "# Generate list of primes less than 1000\n",
        "primes = sieve_of_eratosthenes(1000)\n",
        "\n",
        "# Randomly select two primes\n",
        "prime1 = random.choice(primes)\n",
        "prime2 = random.choice(primes)\n",
        "\n",
        "# Calculate the semiprime number\n",
        "N = prime1 * prime2\n",
        "\n",
        "# Print the results\n",
        "print(f\"Selected primes: {prime1} and {prime2}\")\n",
        "print(f\"Semiprime (N): {N}\")\n"
      ]
    },
    {
      "cell_type": "markdown",
      "metadata": {
        "id": "qmZuqyY1Zxtv"
      },
      "source": [
        "Now we implement the above steps of Shor's algorithm"
      ]
    },
    {
      "cell_type": "code",
      "execution_count": null,
      "metadata": {
        "colab": {
          "base_uri": "https://localhost:8080/"
        },
        "id": "snjFVM54Z3xY",
        "outputId": "7404e9ac-0666-463a-996b-b3b2ff231f97"
      },
      "outputs": [
        {
          "name": "stdout",
          "output_type": "stream",
          "text": [
            "semiprime N = 764329, coprime x = 643770, period r = 381290, prime factors = 911 and 839\n"
          ]
        }
      ],
      "source": [
        "import math\n",
        "\n",
        "def shors_algorithm_classical(N):\n",
        "    x = random.randint(0,N) # step one\n",
        "    if(math.gcd(x,N) != 1): # step two\n",
        "        return x,0,math.gcd(x,N),N/math.gcd(x,N)\n",
        "    r = findPeriodClassical(x,N) # step three\n",
        "    while(r % 2 != 0):\n",
        "        r = findPeriodClassical(x,N)\n",
        "    p = math.gcd(x**int(r/2)+1,N) # step four, ignoring the case where (x^(r/2) +/- 1) is a multiple of N\n",
        "    q = math.gcd(x**int(r/2)-1,N)\n",
        "    return x,r,p,q\n",
        "q = 1\n",
        "p = 1\n",
        "while p==1 or q==1:\n",
        "  x,r,p,q = shors_algorithm_classical(N)\n",
        "print(\"semiprime N = \",N,\", coprime x = \",x,\", period r = \",r,\", prime factors = \",p,\" and \",q,sep=\"\")"
      ]
    },
    {
      "cell_type": "markdown",
      "metadata": {
        "id": "AidnnzaGdfqa"
      },
      "source": [
        "**2. Quantum Period Finding**\n",
        "Let's first explain the quantum period-finding algorithm and then go through some steps in detail before showing an example. This algorithm takes two coprime integers, $x$ and $N$, and outputs $r$, the period of $𝓕(a) = x^a \\ mod \\  N$.\n",
        "\n"
      ]
    },
    {
      "cell_type": "markdown",
      "metadata": {
        "id": "XWdsDBi5jwoV"
      },
      "source": [
        "\n",
        "\n",
        "---\n",
        "\n"
      ]
    },
    {
      "cell_type": "markdown",
      "metadata": {
        "id": "yZQPCNPNe2Qw"
      },
      "source": [
        "\n",
        "1. Choose $ T = 2^t $ such that $ N^2 \\leq T \\leq 2N^2 $. Initialise two registers of qubits, first an argument register with $ t $ qubits and second a function register with $n = \\log_2 N$ qubits. These registers start in the initial state:\n",
        "$$\n",
        "\\\n",
        "|\\psi_0\\rangle = |0\\rangle |0\\rangle\n",
        "\\\n",
        "$$\n",
        "\n",
        "2. Apply a Hadamard gate on each of the qubits in the argument register to yield an equally weighted superposition of all integers from $ 0 $ to $ T $:\n",
        " $$\n",
        "\\\n",
        "|\\psi_1\\rangle = \\frac{1}{\\sqrt{T}} \\sum_{a=0}^{T-1} |a\\rangle |0\\rangle\n",
        "\\\n",
        "$$\n",
        "3. Implement the modular exponentiation function $( x^a \\ mod \\  N )$ on the function register, giving the state:\n",
        "$$\n",
        "\\\n",
        "|\\psi_2\\rangle = \\frac{1}{\\sqrt{T}} \\sum_{a=0}^{T-1} |a\\rangle |x^a \\ mod \\  N\\rangle\n",
        "\\\n",
        "$$\n",
        "This $ |\\psi_2\\rangle $ is highly entangled and exhibits quantum parallelism, i.e. the function entangled in parallel all the $ 0 $ to $ T $ input values with the corresponding values of $( x^a \\ mod \\ N )$, even though the function was only executed once.\n",
        "\n",
        "4. Perform a quantum Fourier transform on the argument register, resulting in the state:\n",
        "$$\n",
        "\\\n",
        "|\\psi_3\\rangle = \\frac{1}{T} \\sum_{a=0}^{T-1} \\sum_{z=0}^{T-1} e^{(2\\pi i)(az/T)} |z\\rangle |x^a \\ mod \\  N\\rangle\n",
        "\\\n",
        "$$\n",
        "where due to the interference, only the terms $ |z\\rangle $ with\n",
        "$$\n",
        "z = qT / r\n",
        "$$have significant amplitude where $ q $ is a random integer ranging from $ 0 $ to $ r - 1 $ and $ r $ is the period of $ \\mathcal{F}(a) = x^a \\ mod \\  N $.\n",
        "\n",
        "5. Measure the argument register to obtain classical result $ z $. With reasonable probability, the continued fraction approximation of $ T / z $ will be an integer multiple of the period $ r $. Euclid's algorithm can then be used to find $ r $.\n"
      ]
    },
    {
      "cell_type": "markdown",
      "metadata": {
        "id": "-9rCbg6Bjxiz"
      },
      "source": [
        "\n",
        "\n",
        "---\n",
        "\n"
      ]
    },
    {
      "cell_type": "markdown",
      "metadata": {
        "id": "oQ5DXO3ujSe0"
      },
      "source": [
        "Notice how quantum parallelism and constructive interference are used to detect and measure the periodicity of the modular exponentiation function. Interference making periodicity measurement easier shouldn't be surprising. Physicists often use electromagnetic wave scattering and interference to determine the periodicity of physical objects like crystal lattices. Similarly, Shor's algorithm uses interference to measure the periodicity of arithmetic objects, acting like a computational interferometer.\n"
      ]
    },
    {
      "cell_type": "markdown",
      "metadata": {
        "id": "lqsmuiu6lPkV"
      },
      "source": [
        "**Modular Exponantiation**\n",
        "\n",
        "The modular exponentiation step (step 3 above) evaluates $x^a \\bmod N$ for $2^t$ values of $a$ in parallel. This is the most demanding part of the algorithm. It can be done using the binary representation of any integer, given by the identity:\n",
        "$$\n",
        "x = x_{t-1}2^{t-1} + \\ldots + x_1 2^1 + x_0 2^0\n",
        "$$\n",
        "where $x_t$ are the binary digits of $x$. From this, it follows that:\n",
        "\n",
        "\\begin{aligned}\n",
        "x^a \\bmod N & = x^{2^{(t-1)}a_{t-1}} ... x^{2a_1}x^{a_0} \\bmod N \\\\\n",
        "& = x^{2^{(t-1)}a_{t-1}} ... [x^{2a_1}[x^{2a_0} \\bmod N] \\bmod N] ... \\bmod N \\\\\n",
        "\\end{aligned}\n",
        "\n",
        "This means that $1$ is first multiplied by $x^1 \\bmod N$ if and only if $a_0 = 1$. Then, the result is multiplied by $x^2 \\bmod N$ if and only if $a_1 = 1$, and so forth, until finally, the result is multiplied by $x^{2^{(t-1)}} \\bmod N$ if and only if $a_{t-1} = 1$.\n",
        "\n",
        "Therefore, modular exponentiation consists of $t$ serial multiplications modulo $N$, each controlled by the qubit $a_t$. The values $x, x^2, \\ldots, x^{2^{(t-1)}} \\bmod N$ can be efficiently found on a classical computer using repeated squaring.\n"
      ]
    },
    {
      "cell_type": "markdown",
      "metadata": {
        "id": "wir8zLX1l0pD"
      },
      "source": [
        "**Quantum Fourier Transform**\n",
        "\n",
        "The Fourier transform has many different versions in classical computing, used in areas such as signal processing, data compression, and complexity theory. The quantum Fourier transform (QFT), step 4 above, is the quantum version of the discrete Fourier transform, applied to the amplitudes of a wavefunction.\n",
        "\n",
        "The classical discrete Fourier transform acts on a vector $(x_0, \\ldots, x_{N-1})$ and maps it to the vector $(y_0, \\ldots, y_{N-1})$ according to the formula:\n",
        "$$\n",
        "y_k = \\frac{1}{\\sqrt{N}} \\sum_{j=0}^{N-1} x_j \\omega_N^{jk}\n",
        "$$\n",
        "where $\\omega_N^{jk} = e^{2\\pi i \\frac{jk}{N}}$.\n",
        "\n",
        "Similarly, the quantum Fourier transform acts on a quantum state $\\sum_{i=0}^{N-1} x_i \\vert i \\rangle$ and maps it to the quantum state $\\sum_{i=0}^{N-1} y_i \\vert i \\rangle$ according to the formula:\n",
        "$$\n",
        "y_k = \\frac{1}{\\sqrt{N}} \\sum_{j=0}^{N-1} x_j \\omega_N^{jk}\n",
        "$$\n",
        "with $\\omega_N^{jk}$ defined as above. Note that only the amplitudes of the state are affected by this transformation.\n",
        "\n",
        "This can also be expressed as the map:\n",
        "$$\n",
        "\\vert x \\rangle \\mapsto \\frac{1}{\\sqrt{N}} \\sum_{y=0}^{N-1} \\omega_N^{xy} \\vert y \\rangle\n",
        "$$\n",
        "Or the unitary matrix:\n",
        "$$\n",
        "U_{QFT} = \\frac{1}{\\sqrt{N}} \\sum_{x=0}^{N-1} \\sum_{y=0}^{N-1} \\omega_N^{xy} \\vert y \\rangle \\langle x \\vert\n",
        "$$\n"
      ]
    },
    {
      "cell_type": "markdown",
      "metadata": {
        "id": "IqizrSlBmsJm"
      },
      "source": [
        "We've already seen an example of the quantum Fourier transform for $N = 2$: it's the Hadamard operator ($H$):\n",
        "$$\n",
        "H = \\frac{1}{\\sqrt{2}}\\begin{bmatrix} 1 & 1 \\\\ 1 & -1 \\end{bmatrix}\n",
        "$$\n",
        "Suppose we have a single qubit state $\\alpha \\vert 0 \\rangle + \\beta \\vert 1 \\rangle$. If we apply the $H$ operator to this state, we get a new state.\n",
        "$$\\frac{1}{\\sqrt{2}}(\\alpha + \\beta) \\vert 0 \\rangle + \\frac{1}{\\sqrt{2}}(\\alpha - \\beta)  \\vert 1 \\rangle\n",
        "\\equiv \\tilde{\\alpha}\\vert 0 \\rangle + \\tilde{\\beta}\\vert 1 \\rangle$$\n",
        "\n",
        "What does the quantum Fourier transform look like for larger $N$? Let's derive a circuit for $N = 2^n$, where $QFT_N$ acts on the state $\\vert x \\rangle = \\vert x_1 \\ldots x_n \\rangle$ with $x_1$ as the most significant bit.\n",
        "\n",
        "\\begin{aligned}\n",
        "QFT_N\\vert x \\rangle & = \\frac{1}{\\sqrt{N}} \\sum_{y=0}^{N-1}\\omega_N^{xy} \\vert y \\rangle \\\\\n",
        "& = \\frac{1}{\\sqrt{N}} \\sum_{y=0}^{N-1} e^{2 \\pi i xy / 2^n} \\vert y \\rangle \\:\\text{since}\\: \\omega_N^{xy} = e^{2\\pi i \\frac{xy}{N}} \\:\\text{and}\\: N = 2^n\\\\\n",
        "& = \\frac{1}{\\sqrt{N}} \\sum_{y=0}^{N-1} e^{2 \\pi i \\left(\\sum_{k=1}^n y_k/2^k\\right) x} \\vert y_1 ... y_n \\rangle \\:\\text{rewriting in fractional binary notation}\\: y = y_1...y_k, y/2^n = \\sum_{k=1}^n y_k/2^k \\\\\n",
        "& = \\frac{1}{\\sqrt{N}} \\sum_{y=0}^{N-1} \\prod_{k=0}^n e^{2 \\pi i x y_k/2^k } \\vert y_1 ... y_n \\rangle \\:\\text{after expanding the exponential of a sum to a product of exponentials} \\\\\n",
        "& = \\frac{1}{\\sqrt{N}} \\bigotimes_{k=1}^n  \\left(\\vert0\\rangle + e^{2 \\pi i x /2^k } \\vert1\\rangle \\right) \\:\\text{after rearranging the sum and products, and expanding} \\\\\n",
        "& = \\frac{1}{\\sqrt{N}} \\left(\\vert0\\rangle + e^{2 \\pi i[0.x_n]} \\vert1\\rangle\\right) \\otimes...\\otimes  \\left(\\vert0\\rangle + e^{2 \\pi i[0.x_1.x_2...x_{n-1}.x_n]} \\vert1\\rangle\\right) \\:\\text{as}\\: e^{2 \\pi i x/2^k} = e^{2 \\pi i[0.x_k...x_n]}\n",
        "\\end{aligned}\n",
        "\n",
        "This form of the QFT for $N=2^n$ is useful because only the last qubit depends on the values of all the other input qubits, and each successive bit depends less and less on the input qubits. Additionally, $e^{2 \\pi i.0.x_n}$ is either $+1$ or $-1$, resembling the Hadamard transform.\n",
        "\n",
        "Before we create the circuit code for general $N=2^n$, let's look at $N=8,n=3$:\n",
        "\n",
        "$$QFT_8\\vert x_1x_2x_3\\rangle = \\frac{1}{\\sqrt{8}} \\left(\\vert0\\rangle + e^{2 \\pi i[0.x_3]} \\vert1\\rangle\\right) \\otimes \\left(\\vert0\\rangle + e^{2 \\pi i[0.x_2.x_3]} \\vert1\\rangle\\right) \\otimes  \\left(\\vert0\\rangle + e^{2 \\pi i[0.x_1.x_2.x_3]} \\vert1\\rangle\\right) $$\n",
        "\n",
        "So the steps of shor's algorithm would be:\n",
        "\n",
        "---\n",
        "\n",
        "1. If N is even, return 2 as a factor.\n",
        "2. Initialize a list of random integers between 2 and N-1.\n",
        "3. While True:\n",
        "   1. Pick a random integer a from the list.\n",
        "   2. Compute $g = gcd(a, N)$.\n",
        "   3. If $g \\neq 1$, return g as a factor.\n",
        "   4. Use quantum period finding to compute the period r of $f(x) = a^x \\  mod \\ N$.\n",
        "   5. If r is even:\n",
        "      1. Compute $x = a^{r \\over 2} \\ mod \\ N$.\n",
        "      2. If $x \\neq N-1$:\n",
        "          - Compute factor1 = $gcd(x + 1, N)$.\n",
        "          - Compute factor2 = $gcd(x - 1, N)$.\n",
        "          - If factor1 or factor2 is non-trivial, return it as a factor.\n",
        "4. Repeat until a factor is found.\n",
        "\n",
        "---\n"
      ]
    },
    {
      "cell_type": "markdown",
      "metadata": {
        "id": "U65mEzIDn5_U"
      },
      "source": [
        " **Detailed Steps of Quantum Period Finding**\n",
        "\n",
        "**Step 1: Initialize the Quantum Registers**\n",
        "- Let $ n = \\lceil \\log_2 N \\rceil $. The first register has $ 2n $ qubits, and the second register has $ n $ qubits.\n",
        "- Initialize the first register to $ |0\\rangle $ and the second register to $ |0\\rangle $\n",
        "\n",
        "**Step 2: Apply Hadamard Gates**\n",
        "- Apply Hadamard gates to the first register to create a superposition of all possible states:\n",
        "  $$\n",
        "  |\\psi_1\\rangle = \\frac{1}{\\sqrt{2^{2n}}} \\sum_{x=0}^{2^{2n}-1} |x\\rangle |0\\rangle\n",
        "  $$\n",
        "  Here, $ |x\\rangle $ represents the computational basis states of the first register.\n",
        "\n",
        "**Step 3: Apply Modular Exponentiation**\n",
        "- Apply the function $ f(x) = a^x \\ mod \\  N $ to the first register and store the result in the second register:\n",
        "  $$\n",
        "  |\\psi_2\\rangle = \\frac{1}{\\sqrt{2^{2n}}} \\sum_{x=0}^{2^{2n}-1} |x\\rangle |a^x \\mod N\\rangle\n",
        "  $$\n",
        "  This step entangles the first and second registers.\n",
        "\n",
        "**Step 4: Measure the Second Register**\n",
        "- Measure the second register. Suppose the result is $ y = a^{x_0} \\ mod \\  N $ The state collapses to:\n",
        "  $$\n",
        "  |\\psi_3\\rangle = \\frac{1}{\\sqrt{m}} \\sum_{k=0}^{m-1} |x_0 + kr\\rangle |y\\rangle\n",
        "  $$\n",
        "  Here, $ r $ is the period of $ f(x) $, and $ m $ is the number of times $ y $ appears in the superposition.\n",
        "\n",
        "**Step 5: Apply the Quantum Fourier Transform (QFT)**\n",
        "- Apply the QFT to the first register. The QFT transforms the state $ |x_0 + kr\\rangle $ into a state where the period $ r $ is encoded in the amplitudes:\n",
        "  $$\n",
        "  |\\psi_4\\rangle = \\frac{1}{\\sqrt{m}} \\sum_{k=0}^{m-1} \\text{QFT}(|x_0 + kr\\rangle) |y\\rangle\n",
        "  $$\n",
        "  The QFT maps the state $ |x_0 + kr\\rangle $ to a superposition of states with frequencies related to $ r $.\n",
        "\n",
        "**Step 6: Measure the First Register**\n",
        "- Measure the first register to obtain a value $ c $. This value is related to the period $ r $ by:\n",
        "  $$\n",
        "  c \\approx \\frac{2^{2n}}{r} \\cdot s\n",
        "  $$\n",
        "  where $ s $ is an integer.\n",
        "\n",
        "**Step 7: Extract the Period $ r $**\n",
        "- Use the measured value $ c $ to compute the period $ r $. This is done using the continued fraction algorithm to find the best rational approximation $ \\frac{s}{r} $ for $ \\frac{c}{2^{2n}} $."
      ]
    },
    {
      "cell_type": "code",
      "execution_count": null,
      "metadata": {
        "colab": {
          "base_uri": "https://localhost:8080/"
        },
        "id": "M9u0j48iBW5A",
        "outputId": "cffe664b-be2e-42df-996a-11cb65e07f60"
      },
      "outputs": [
        {
          "name": "stdout",
          "output_type": "stream",
          "text": [
            "\u001b[?25l   \u001b[90m━━━━━━━━━━━━━━━━━━━━━━━━━━━━━━━━━━━━━━━━\u001b[0m \u001b[32m0.0/6.8 MB\u001b[0m \u001b[31m?\u001b[0m eta \u001b[36m-:--:--\u001b[0m\r\u001b[2K   \u001b[91m━━\u001b[0m\u001b[90m╺\u001b[0m\u001b[90m━━━━━━━━━━━━━━━━━━━━━━━━━━━━━━━━━━━━━\u001b[0m \u001b[32m0.4/6.8 MB\u001b[0m \u001b[31m10.8 MB/s\u001b[0m eta \u001b[36m0:00:01\u001b[0m\r\u001b[2K   \u001b[91m━━━━━━━━━━━━━━━━\u001b[0m\u001b[90m╺\u001b[0m\u001b[90m━━━━━━━━━━━━━━━━━━━━━━━\u001b[0m \u001b[32m2.8/6.8 MB\u001b[0m \u001b[31m40.2 MB/s\u001b[0m eta \u001b[36m0:00:01\u001b[0m\r\u001b[2K   \u001b[91m━━━━━━━━━━━━━━━━━━━━━━━━━━━━━━━━━━━━━━━\u001b[0m\u001b[91m╸\u001b[0m \u001b[32m6.8/6.8 MB\u001b[0m \u001b[31m72.3 MB/s\u001b[0m eta \u001b[36m0:00:01\u001b[0m\r\u001b[2K   \u001b[90m━━━━━━━━━━━━━━━━━━━━━━━━━━━━━━━━━━━━━━━━\u001b[0m \u001b[32m6.8/6.8 MB\u001b[0m \u001b[31m53.8 MB/s\u001b[0m eta \u001b[36m0:00:00\u001b[0m\n",
            "\u001b[?25h\u001b[?25l   \u001b[90m━━━━━━━━━━━━━━━━━━━━━━━━━━━━━━━━━━━━━━━━\u001b[0m \u001b[32m0.0/119.4 kB\u001b[0m \u001b[31m?\u001b[0m eta \u001b[36m-:--:--\u001b[0m\r\u001b[2K   \u001b[90m━━━━━━━━━━━━━━━━━━━━━━━━━━━━━━━━━━━━━━━━\u001b[0m \u001b[32m119.4/119.4 kB\u001b[0m \u001b[31m12.0 MB/s\u001b[0m eta \u001b[36m0:00:00\u001b[0m\n",
            "\u001b[2K   \u001b[90m━━━━━━━━━━━━━━━━━━━━━━━━━━━━━━━━━━━━━━━━\u001b[0m \u001b[32m2.1/2.1 MB\u001b[0m \u001b[31m80.5 MB/s\u001b[0m eta \u001b[36m0:00:00\u001b[0m\n",
            "\u001b[2K   \u001b[90m━━━━━━━━━━━━━━━━━━━━━━━━━━━━━━━━━━━━━━━━\u001b[0m \u001b[32m49.5/49.5 kB\u001b[0m \u001b[31m4.6 MB/s\u001b[0m eta \u001b[36m0:00:00\u001b[0m\n",
            "\u001b[2K   \u001b[90m━━━━━━━━━━━━━━━━━━━━━━━━━━━━━━━━━━━━━━━━\u001b[0m \u001b[32m49.7/49.7 MB\u001b[0m \u001b[31m17.3 MB/s\u001b[0m eta \u001b[36m0:00:00\u001b[0m\n",
            "\u001b[2K   \u001b[90m━━━━━━━━━━━━━━━━━━━━━━━━━━━━━━━━━━━━━━━━\u001b[0m \u001b[32m109.0/109.0 kB\u001b[0m \u001b[31m10.6 MB/s\u001b[0m eta \u001b[36m0:00:00\u001b[0m\n",
            "\u001b[2K   \u001b[90m━━━━━━━━━━━━━━━━━━━━━━━━━━━━━━━━━━━━━━━━\u001b[0m \u001b[32m12.4/12.4 MB\u001b[0m \u001b[31m83.5 MB/s\u001b[0m eta \u001b[36m0:00:00\u001b[0m\n",
            "\u001b[?25hqiskit                             1.3.2\n",
            "qiskit-aer                         0.16.0\n"
          ]
        }
      ],
      "source": [
        "!pip install -q qiskit\n",
        "!pip install -q qiskit-aer\n",
        "!pip list| grep qiskit\n",
        "\n",
        "#qiskit                             1.3.2\n",
        "#qiskit-aer                         0.16.0"
      ]
    },
    {
      "cell_type": "code",
      "execution_count": null,
      "metadata": {
        "id": "YSWenK34Cg5L"
      },
      "outputs": [],
      "source": [
        "from qiskit_aer import Aer\n",
        "from qiskit import transpile, assemble\n",
        "from qiskit.circuit.library import QFT\n",
        "from qiskit import QuantumCircuit, ClassicalRegister, QuantumRegister\n",
        "import numpy as np\n",
        "import math\n",
        "import random\n",
        "import time\n",
        "import matplotlib.pyplot as plt"
      ]
    },
    {
      "cell_type": "code",
      "execution_count": null,
      "metadata": {
        "id": "y9XlQljcCtfk"
      },
      "outputs": [],
      "source": [
        "# Function to find the greatest common divisor (GCD)\n",
        "def gcd(a, b):\n",
        "    while b:\n",
        "        a, b = b, a % b\n",
        "    return a\n"
      ]
    },
    {
      "cell_type": "code",
      "execution_count": null,
      "metadata": {
        "id": "qc4WsdkLDW5U"
      },
      "outputs": [],
      "source": [
        "# Function to perform Shor's algorithm\n",
        "def shors_algorithm(N, checkPrint, checkGCD):\n",
        "    randomList = list(range(2, N - 1))\n",
        "\n",
        "    if checkPrint:\n",
        "        print(f'Number to factorize: {N}')\n",
        "    if N % 2 == 0:\n",
        "        print('The number is even.')\n",
        "        return 2, {}, 0  # Return a factor and an empty counts dictionary\n",
        "\n",
        "    stepCounter = 0\n",
        "    while True:\n",
        "        if not randomList:\n",
        "            randomList = list(range(2, N - 1))\n",
        "\n",
        "        # Step 1: Choose a random number 'a' such that 1 < a < N\n",
        "        a = randomList.pop(random.randint(0, len(randomList) - 1))\n",
        "        stepCounter += 1\n",
        "        if checkPrint:\n",
        "            print(f'Random number picked: {a}')\n",
        "\n",
        "        g = gcd(a, N)\n",
        "        if g != 1 and checkGCD:\n",
        "            if checkPrint:\n",
        "                print(f'GCD({a}, {N}) is: {g}')\n",
        "            return g, {}, stepCounter  # Return a factor and an empty counts dictionary\n",
        "\n",
        "        # Step 2: Quantum period finding\n",
        "        n = int(math.ceil(math.log2(N)))\n",
        "        qr = QuantumRegister(2 * n, 'qr')\n",
        "        cr = ClassicalRegister(2 * n, 'cr')\n",
        "        qc = QuantumCircuit(qr, cr)\n",
        "\n",
        "        # Initialize the qubits\n",
        "        qc.h(range(n))  # Apply Hadamard gates to the first n qubits\n",
        "\n",
        "        # Apply modular exponentiation (simplified for demonstration)\n",
        "        for q in range(n):\n",
        "            qc.cx(q, q + n)\n",
        "\n",
        "        # Apply inverse Quantum Fourier Transform (QFT)\n",
        "        qc.append(QFT(n, inverse=True), range(n))\n",
        "\n",
        "        # Measure the first n qubits\n",
        "        qc.measure(range(n), range(n))\n",
        "\n",
        "        # Simulate the circuit\n",
        "        simulator = Aer.get_backend('qasm_simulator')\n",
        "        compiled_circuit = transpile(qc, simulator)\n",
        "        result = simulator.run(compiled_circuit).result()\n",
        "        counts = result.get_counts()\n",
        "        measured_value = int(max(counts, key=counts.get), 2)\n",
        "\n",
        "        if checkPrint:\n",
        "            print(f'Measured value (r): {measured_value}')\n",
        "\n",
        "        # Step 3: Find the period 'r' from the measured value\n",
        "        if measured_value == 0:\n",
        "            continue  # Try again if the result is 0\n",
        "\n",
        "        r = measured_value\n",
        "        if (a ** r) % N == 1 and r % 2 == 0:\n",
        "            x = (a ** (r // 2)) % N\n",
        "            if checkPrint:\n",
        "                print(f'Value of x: {x}')\n",
        "\n",
        "            if x != N - 1:\n",
        "                factor1 = gcd(x + 1, N)\n",
        "                factor2 = gcd(x - 1, N)\n",
        "                if checkPrint:\n",
        "                    print(f'Factors: {factor1} and {factor2}')\n",
        "\n",
        "                if factor1 != 1 and factor1 != N:\n",
        "                    if checkPrint:\n",
        "                        print(f'Number of qubits: {n}')\n",
        "                        print('Quantum Circuit after Measure gates:')\n",
        "                        print(qc)\n",
        "                        print(f'Total random picks: {stepCounter}')\n",
        "                    return factor1, counts, stepCounter  # Return the factor and counts\n",
        "\n",
        "                if factor2 != 1 and factor2 != N:\n",
        "                    if checkPrint:\n",
        "                        print(f'Number of qubits: {n}')\n",
        "                        print('Quantum Circuit after Measure gates:')\n",
        "                        print(qc)\n",
        "                        print(f'Total random picks: {stepCounter}')\n",
        "                    return factor2, counts, stepCounter  # Return the factor and counts"
      ]
    },
    {
      "cell_type": "code",
      "execution_count": null,
      "metadata": {
        "id": "KhlrXDlNDoJ5"
      },
      "outputs": [],
      "source": [
        "def test(N, times):\n",
        "    sumTime = 0\n",
        "    sumSteps = 0\n",
        "\n",
        "    for i in range(times):\n",
        "\n",
        "        #start the timer\n",
        "        start_time = time.time()\n",
        "        factor, counts, steps = shors_algorithm(N, False, False)  #shors_algorithm(numberOfFactorization, checkPrint, checkGCD)\n",
        "        sumTime += time.time() - start_time\n",
        "        sumSteps += steps\n",
        "\n",
        "    return sumTime / times, sumSteps / times"
      ]
    },
    {
      "cell_type": "code",
      "execution_count": null,
      "metadata": {
        "colab": {
          "base_uri": "https://localhost:8080/"
        },
        "id": "yXMLvrFhDynh",
        "outputId": "88f47724-0e37-4c01-bd66-d2dceb01b584"
      },
      "outputs": [
        {
          "name": "stdout",
          "output_type": "stream",
          "text": [
            "Average time per run: 0.0593 seconds\n",
            "Average steps per run: 1.20\n"
          ]
        }
      ],
      "source": [
        "# Example usage of the test function\n",
        "N = 15  # Number to factorize\n",
        "times = 10  # Number of times to run the test\n",
        "avg_time, avg_steps = test(N, times)\n",
        "\n",
        "print(f'Average time per run: {avg_time:.4f} seconds')\n",
        "print(f'Average steps per run: {avg_steps:.2f}')"
      ]
    },
    {
      "cell_type": "code",
      "execution_count": null,
      "metadata": {
        "colab": {
          "base_uri": "https://localhost:8080/",
          "height": 1000
        },
        "id": "sBqZW4JMErH3",
        "outputId": "b4ed429c-09da-4737-f438-f2a18a4acf20"
      },
      "outputs": [
        {
          "name": "stdout",
          "output_type": "stream",
          "text": [
            "Number to factorize: 91\n",
            "Random number picked: 11\n",
            "Measured value (r): 63\n",
            "Random number picked: 83\n",
            "Measured value (r): 41\n",
            "Random number picked: 62\n",
            "Measured value (r): 14\n",
            "Random number picked: 87\n",
            "Measured value (r): 82\n",
            "Random number picked: 31\n",
            "Measured value (r): 24\n",
            "Value of x: 1\n",
            "Factors: 1 and 91\n",
            "Random number picked: 68\n",
            "Measured value (r): 83\n",
            "Random number picked: 39\n",
            "Measured value (r): 47\n",
            "Random number picked: 3\n",
            "Measured value (r): 61\n",
            "Random number picked: 54\n",
            "Measured value (r): 50\n",
            "Random number picked: 43\n",
            "Measured value (r): 2\n",
            "Random number picked: 89\n",
            "Measured value (r): 86\n",
            "Random number picked: 52\n",
            "Measured value (r): 85\n",
            "Random number picked: 69\n",
            "Measured value (r): 56\n",
            "Random number picked: 79\n",
            "Measured value (r): 33\n",
            "Random number picked: 66\n",
            "Measured value (r): 81\n",
            "Random number picked: 42\n",
            "Measured value (r): 104\n",
            "Random number picked: 28\n",
            "Measured value (r): 86\n",
            "Random number picked: 73\n",
            "Measured value (r): 92\n",
            "Random number picked: 80\n",
            "Measured value (r): 21\n",
            "Random number picked: 2\n",
            "Measured value (r): 20\n",
            "Random number picked: 65\n",
            "Measured value (r): 51\n",
            "Random number picked: 64\n",
            "Measured value (r): 25\n",
            "Random number picked: 63\n",
            "Measured value (r): 115\n",
            "Random number picked: 88\n",
            "Measured value (r): 7\n",
            "Random number picked: 60\n",
            "Measured value (r): 109\n",
            "Random number picked: 5\n",
            "Measured value (r): 56\n",
            "Random number picked: 18\n",
            "Measured value (r): 92\n",
            "Random number picked: 85\n",
            "Measured value (r): 13\n",
            "Random number picked: 71\n",
            "Measured value (r): 84\n",
            "Value of x: 64\n",
            "Factors: 13 and 7\n",
            "Number of qubits: 7\n",
            "Quantum Circuit after Measure gates:\n",
            "       ┌───┐                                   ┌───────┐┌─┐                  \n",
            " qr_0: ┤ H ├──■────────────────────────────────┤0      ├┤M├──────────────────\n",
            "       ├───┤  │                                │       │└╥┘┌─┐               \n",
            " qr_1: ┤ H ├──┼────■───────────────────────────┤1      ├─╫─┤M├───────────────\n",
            "       ├───┤  │    │                           │       │ ║ └╥┘┌─┐            \n",
            " qr_2: ┤ H ├──┼────┼────■──────────────────────┤2      ├─╫──╫─┤M├────────────\n",
            "       ├───┤  │    │    │                      │       │ ║  ║ └╥┘┌─┐         \n",
            " qr_3: ┤ H ├──┼────┼────┼────■─────────────────┤3 IQFT ├─╫──╫──╫─┤M├─────────\n",
            "       ├───┤  │    │    │    │                 │       │ ║  ║  ║ └╥┘┌─┐      \n",
            " qr_4: ┤ H ├──┼────┼────┼────┼────■────────────┤4      ├─╫──╫──╫──╫─┤M├──────\n",
            "       ├───┤  │    │    │    │    │            │       │ ║  ║  ║  ║ └╥┘┌─┐   \n",
            " qr_5: ┤ H ├──┼────┼────┼────┼────┼────■───────┤5      ├─╫──╫──╫──╫──╫─┤M├───\n",
            "       ├───┤  │    │    │    │    │    │       │       │ ║  ║  ║  ║  ║ └╥┘┌─┐\n",
            " qr_6: ┤ H ├──┼────┼────┼────┼────┼────┼────■──┤6      ├─╫──╫──╫──╫──╫──╫─┤M├\n",
            "       └───┘┌─┴─┐  │    │    │    │    │    │  └───────┘ ║  ║  ║  ║  ║  ║ └╥┘\n",
            " qr_7: ─────┤ X ├──┼────┼────┼────┼────┼────┼────────────╫──╫──╫──╫──╫──╫──╫─\n",
            "            └───┘┌─┴─┐  │    │    │    │    │            ║  ║  ║  ║  ║  ║  ║ \n",
            " qr_8: ──────────┤ X ├──┼────┼────┼────┼────┼────────────╫──╫──╫──╫──╫──╫──╫─\n",
            "                 └───┘┌─┴─┐  │    │    │    │            ║  ║  ║  ║  ║  ║  ║ \n",
            " qr_9: ───────────────┤ X ├──┼────┼────┼────┼────────────╫──╫──╫──╫──╫──╫──╫─\n",
            "                      └───┘┌─┴─┐  │    │    │            ║  ║  ║  ║  ║  ║  ║ \n",
            "qr_10: ────────────────────┤ X ├──┼────┼────┼────────────╫──╫──╫──╫──╫──╫──╫─\n",
            "                           └───┘┌─┴─┐  │    │            ║  ║  ║  ║  ║  ║  ║ \n",
            "qr_11: ─────────────────────────┤ X ├──┼────┼────────────╫──╫──╫──╫──╫──╫──╫─\n",
            "                                └───┘┌─┴─┐  │            ║  ║  ║  ║  ║  ║  ║ \n",
            "qr_12: ──────────────────────────────┤ X ├──┼────────────╫──╫──╫──╫──╫──╫──╫─\n",
            "                                     └───┘┌─┴─┐          ║  ║  ║  ║  ║  ║  ║ \n",
            "qr_13: ───────────────────────────────────┤ X ├──────────╫──╫──╫──╫──╫──╫──╫─\n",
            "                                          └───┘          ║  ║  ║  ║  ║  ║  ║ \n",
            "cr: 14/══════════════════════════════════════════════════╩══╩══╩══╩══╩══╩══╩═\n",
            "                                                         0  1  2  3  4  5  6 \n",
            "Total random picks: 29\n",
            "A non-trivial factor of 91 is: 13\n",
            "--- 3.4919 seconds ---\n"
          ]
        },
        {
          "data": {
            "image/png": "[encoded data removed]",
            "text/plain": [
              "<Figure size 640x480 with 1 Axes>"
            ]
          },
          "metadata": {},
          "output_type": "display_data"
        }
      ],
      "source": [
        "# Example usage\n",
        "N = 91  # Number to factorize\n",
        "\n",
        "#start the timer\n",
        "start_time = time.time()\n",
        "\n",
        "factor, counts, steps = shors_algorithm(N, True, False)\n",
        "counts = {int(k, 2): v for k, v in counts.items()}\n",
        "\n",
        "print(f\"A non-trivial factor of {N} is: {factor}\")\n",
        "print(f\"--- {time.time() - start_time:.4f} seconds ---\")\n",
        "\n",
        "# Plot the results using matplotlib\n",
        "if counts:  # Only plot if counts is not empty\n",
        "    plt.bar(counts.keys(), counts.values(), color='blue')\n",
        "    plt.xlabel('Measuring Numbers')\n",
        "    plt.ylabel('Measure Times')\n",
        "    plt.title(f'N = {N}')\n",
        "    plt.xticks(rotation=90)\n",
        "    plt.show()"
      ]
    }
  ],
  "metadata": {
    "colab": {
      "authorship_tag": "ABX9TyM51ugCeydF0qhdpo7M7575",
      "include_colab_link": true,
      "provenance": []
    },
    "kernelspec": {
      "display_name": "Python 3",
      "name": "python3"
    },
    "language_info": {
      "name": "python"
    }
  },
  "nbformat": 4,
  "nbformat_minor": 0
}
